{
  "cells": [
    {
      "cell_type": "markdown",
      "metadata": {
        "id": "3p5qauFrg86C"
      },
      "source": [
        "___\n",
        "\n",
        "<a href='https://www.udemy.com/user/joseportilla/'><img src='https://github.com/drobbins58/Complete-Python-3-Bootcamp/blob/master/00-Python%20Object%20and%20Data%20Structure%20Basics/Pierian_Data_Logo.png?raw=1'/></a>\n",
        "___\n",
        "<center><em>Content Copyright by Pierian Data</em></center>"
      ]
    },
    {
      "cell_type": "markdown",
      "metadata": {
        "id": "-FKIYBysg86D"
      },
      "source": [
        "# Numbers and more in Python!\n",
        "\n",
        "In this lecture, we will learn about numbers in Python and how to use them.\n",
        "\n",
        "We'll learn about the following topics:\n",
        "\n",
        "    1.) Types of Numbers in Python\n",
        "    2.) Basic Arithmetic\n",
        "    3.) Differences between classic division and floor division\n",
        "    4.) Object Assignment in Python"
      ]
    },
    {
      "cell_type": "markdown",
      "metadata": {
        "id": "5AmqYGWig86E"
      },
      "source": [
        "## Types of numbers\n",
        "\n",
        "Python has various \"types\" of numbers (numeric literals). We'll mainly focus on integers and floating point numbers.\n",
        "\n",
        "Integers are just whole numbers, positive or negative. For example: 2 and -2 are examples of integers.\n",
        "\n",
        "Floating point numbers in Python are notable because they have a decimal point in them, or use an exponential (e) to define the number. For example 2.0 and -2.1 are examples of floating point numbers. 4E2 (4 times 10 to the power of 2) is also an example of a floating point number in Python.\n",
        "\n",
        "Throughout this course we will be mainly working with integers or simple float number types.\n",
        "\n",
        "Here is a table of the two main types we will spend most of our time working with some examples:"
      ]
    },
    {
      "cell_type": "markdown",
      "metadata": {
        "id": "s-fi35Kwg86E"
      },
      "source": [
        "<table>\n",
        "<tr>\n",
        "    <th>Examples</th>\n",
        "    <th>Number \"Type\"</th>\n",
        "</tr>\n",
        "\n",
        "<tr>\n",
        "    <td>1,2,-5,1000</td>\n",
        "    <td>Integers</td>\n",
        "</tr>\n",
        "\n",
        "<tr>\n",
        "    <td>1.2,-0.5,2e2,3E2</td>\n",
        "    <td>Floating-point numbers</td>\n",
        "</tr>\n",
        " </table>"
      ]
    },
    {
      "cell_type": "markdown",
      "metadata": {
        "id": "RROxJ-2Mg86E"
      },
      "source": [
        "\n",
        "\n",
        "Now let's start with some basic arithmetic."
      ]
    },
    {
      "cell_type": "markdown",
      "metadata": {
        "id": "hej1_Hilg86E"
      },
      "source": [
        "### Basic Arithmetic"
      ]
    },
    {
      "cell_type": "code",
      "execution_count": null,
      "metadata": {
        "id": "BGhIiIG8g86E",
        "outputId": "71d3c6d7-e964-4025-8e47-43b1343ca678",
        "colab": {
          "base_uri": "https://localhost:8080/"
        }
      },
      "outputs": [
        {
          "output_type": "execute_result",
          "data": {
            "text/plain": [
              "13"
            ]
          },
          "metadata": {},
          "execution_count": 2
        }
      ],
      "source": [
        "# Addition\n",
        "2+11"
      ]
    },
    {
      "cell_type": "code",
      "execution_count": null,
      "metadata": {
        "id": "RjqGuX3Xg86F",
        "outputId": "6a052b10-62b4-409b-a615-a05ca0dc1f85"
      },
      "outputs": [
        {
          "data": {
            "text/plain": [
              "1"
            ]
          },
          "execution_count": 2,
          "metadata": {},
          "output_type": "execute_result"
        }
      ],
      "source": [
        "# Subtraction\n",
        "2-1"
      ]
    },
    {
      "cell_type": "code",
      "execution_count": null,
      "metadata": {
        "id": "ch6p48sGg86F",
        "outputId": "d05cd872-db57-40ba-ddda-4237c3fbd0fe"
      },
      "outputs": [
        {
          "data": {
            "text/plain": [
              "4"
            ]
          },
          "execution_count": 3,
          "metadata": {},
          "output_type": "execute_result"
        }
      ],
      "source": [
        "# Multiplication\n",
        "2*2"
      ]
    },
    {
      "cell_type": "code",
      "execution_count": null,
      "metadata": {
        "id": "PBuCDZq3g86F",
        "outputId": "320c75a6-79eb-4609-c75e-84b06ee0b419"
      },
      "outputs": [
        {
          "data": {
            "text/plain": [
              "1.5"
            ]
          },
          "execution_count": 4,
          "metadata": {},
          "output_type": "execute_result"
        }
      ],
      "source": [
        "# Division\n",
        "3/2"
      ]
    },
    {
      "cell_type": "code",
      "execution_count": null,
      "metadata": {
        "id": "XA7UYoj7g86F",
        "outputId": "9003e69a-7d0c-4731-807a-e13328cb699b"
      },
      "outputs": [
        {
          "data": {
            "text/plain": [
              "1"
            ]
          },
          "execution_count": 5,
          "metadata": {},
          "output_type": "execute_result"
        }
      ],
      "source": [
        "# Floor Division\n",
        "7//4"
      ]
    },
    {
      "cell_type": "markdown",
      "metadata": {
        "id": "RPkuAu_Eg86F"
      },
      "source": [
        "**Whoa! What just happened? Last time I checked, 7 divided by 4 equals 1.75 not 1!**\n",
        "\n",
        "The reason we get this result is because we are using \"*floor*\" division. The // operator (two forward slashes) truncates the decimal without rounding, and returns an integer result."
      ]
    },
    {
      "cell_type": "markdown",
      "metadata": {
        "id": "2ZyEupGTg86F"
      },
      "source": [
        "**So what if we just want the remainder after division?**"
      ]
    },
    {
      "cell_type": "code",
      "execution_count": null,
      "metadata": {
        "id": "thZdVsv6g86F",
        "outputId": "859c86d8-bc64-4922-f72c-28ad3556b3ab"
      },
      "outputs": [
        {
          "data": {
            "text/plain": [
              "3"
            ]
          },
          "execution_count": 6,
          "metadata": {},
          "output_type": "execute_result"
        }
      ],
      "source": [
        "# Modulo\n",
        "7%4"
      ]
    },
    {
      "cell_type": "markdown",
      "metadata": {
        "id": "j9CATfGtg86F"
      },
      "source": [
        "4 goes into 7 once, with a remainder of 3. The % operator returns the remainder after division."
      ]
    },
    {
      "cell_type": "markdown",
      "metadata": {
        "id": "xmmx8ERjg86F"
      },
      "source": [
        "### Arithmetic continued"
      ]
    },
    {
      "cell_type": "code",
      "execution_count": null,
      "metadata": {
        "id": "qSnxoukVg86F",
        "outputId": "a3857057-8610-4c5b-db43-bbfbd76b9035"
      },
      "outputs": [
        {
          "data": {
            "text/plain": [
              "8"
            ]
          },
          "execution_count": 7,
          "metadata": {},
          "output_type": "execute_result"
        }
      ],
      "source": [
        "# Powers\n",
        "2**3"
      ]
    },
    {
      "cell_type": "code",
      "execution_count": null,
      "metadata": {
        "id": "7J5x0hfKg86G",
        "outputId": "f11cf34f-4d6f-425f-f599-4d7dd0d98c98"
      },
      "outputs": [
        {
          "data": {
            "text/plain": [
              "2.0"
            ]
          },
          "execution_count": 8,
          "metadata": {},
          "output_type": "execute_result"
        }
      ],
      "source": [
        "# Can also do roots this way\n",
        "4**0.5"
      ]
    },
    {
      "cell_type": "code",
      "execution_count": null,
      "metadata": {
        "id": "cd3jkGVOg86G",
        "outputId": "9ea96995-3288-4ca1-8afb-6fc1ec6e181b"
      },
      "outputs": [
        {
          "data": {
            "text/plain": [
              "105"
            ]
          },
          "execution_count": 9,
          "metadata": {},
          "output_type": "execute_result"
        }
      ],
      "source": [
        "# Order of Operations followed in Python\n",
        "2 + 10 * 10 + 3"
      ]
    },
    {
      "cell_type": "code",
      "execution_count": null,
      "metadata": {
        "id": "dHNbNh_eg86G",
        "outputId": "4f94418e-bc62-41f4-e50e-d53fb74c3e9f"
      },
      "outputs": [
        {
          "data": {
            "text/plain": [
              "156"
            ]
          },
          "execution_count": 10,
          "metadata": {},
          "output_type": "execute_result"
        }
      ],
      "source": [
        "# Can use parentheses to specify orders\n",
        "(2+10) * (10+3)"
      ]
    },
    {
      "cell_type": "markdown",
      "metadata": {
        "id": "_pkO3vOgg86G"
      },
      "source": [
        "## Variable Assignments\n",
        "\n",
        "Now that we've seen how to use numbers in Python as a calculator let's see how we can assign names and create variables.\n",
        "\n",
        "We use a single equals sign to assign labels to variables. Let's see a few examples of how we can do this."
      ]
    },
    {
      "cell_type": "code",
      "execution_count": null,
      "metadata": {
        "collapsed": true,
        "id": "UoDOPIIjg86G"
      },
      "outputs": [],
      "source": [
        "# Let's create an object called \"a\" and assign it the number 5\n",
        "a = 5"
      ]
    },
    {
      "cell_type": "markdown",
      "metadata": {
        "id": "qRe346gwg86G"
      },
      "source": [
        "Now if I call *a* in my Python script, Python will treat it as the number 5."
      ]
    },
    {
      "cell_type": "code",
      "execution_count": null,
      "metadata": {
        "id": "Py9fpIQIg86G",
        "outputId": "8f1e31b9-c404-469d-f636-92ddbb6cffcf"
      },
      "outputs": [
        {
          "data": {
            "text/plain": [
              "10"
            ]
          },
          "execution_count": 12,
          "metadata": {},
          "output_type": "execute_result"
        }
      ],
      "source": [
        "# Adding the objects\n",
        "a+a"
      ]
    },
    {
      "cell_type": "markdown",
      "metadata": {
        "id": "hQtS7KSug86G"
      },
      "source": [
        "What happens on reassignment? Will Python let us write it over?"
      ]
    },
    {
      "cell_type": "code",
      "execution_count": null,
      "metadata": {
        "collapsed": true,
        "id": "M4kpj4Zxg86G"
      },
      "outputs": [],
      "source": [
        "# Reassignment\n",
        "a = 10"
      ]
    },
    {
      "cell_type": "code",
      "execution_count": null,
      "metadata": {
        "id": "NDX6Hx_-g86G",
        "outputId": "a64967c1-ca6b-47e5-ed38-c2e06c4e791b"
      },
      "outputs": [
        {
          "data": {
            "text/plain": [
              "10"
            ]
          },
          "execution_count": 14,
          "metadata": {},
          "output_type": "execute_result"
        }
      ],
      "source": [
        "# Check\n",
        "a"
      ]
    },
    {
      "cell_type": "markdown",
      "metadata": {
        "id": "RrpZE4RRg86G"
      },
      "source": [
        "Yes! Python allows you to write over assigned variable names. We can also use the variables themselves when doing the reassignment. Here is an example of what I mean:"
      ]
    },
    {
      "cell_type": "code",
      "execution_count": null,
      "metadata": {
        "id": "S1yZaFUcg86G",
        "outputId": "a751edb3-d723-4fb8-a41b-eb14d6f42ff2"
      },
      "outputs": [
        {
          "data": {
            "text/plain": [
              "10"
            ]
          },
          "execution_count": 15,
          "metadata": {},
          "output_type": "execute_result"
        }
      ],
      "source": [
        "# Check\n",
        "a"
      ]
    },
    {
      "cell_type": "code",
      "execution_count": null,
      "metadata": {
        "collapsed": true,
        "id": "4DZpcRQwg86G"
      },
      "outputs": [],
      "source": [
        "# Use A to redefine A\n",
        "a = a + a"
      ]
    },
    {
      "cell_type": "code",
      "execution_count": null,
      "metadata": {
        "id": "jRQoKTX-g86G",
        "outputId": "33e7aa59-cbe6-432c-a429-f337a3d26297"
      },
      "outputs": [
        {
          "data": {
            "text/plain": [
              "20"
            ]
          },
          "execution_count": 17,
          "metadata": {},
          "output_type": "execute_result"
        }
      ],
      "source": [
        "# Check\n",
        "a"
      ]
    },
    {
      "cell_type": "markdown",
      "metadata": {
        "id": "z4g21WwRg86H"
      },
      "source": [
        "The names you use when creating these labels need to follow a few rules:\n",
        "\n",
        "    1. Names can not start with a number.\n",
        "    2. There can be no spaces in the name, use _ instead.\n",
        "    3. Can't use any of these symbols :'\",<>/?|\\()!@#$%^&*~-+\n",
        "    4. It's considered best practice (PEP8) that names are lowercase.\n",
        "    5. Avoid using the characters 'l' (lowercase letter el), 'O' (uppercase letter oh),\n",
        "       or 'I' (uppercase letter eye) as single character variable names.\n",
        "    6. Avoid using words that have special meaning in Python like \"list\" and \"str\"\n",
        "\n",
        "\n",
        "Using variable names can be a very useful way to keep track of different variables in Python. For example:"
      ]
    },
    {
      "cell_type": "code",
      "execution_count": null,
      "metadata": {
        "collapsed": true,
        "id": "JgxHLP20g86H"
      },
      "outputs": [],
      "source": [
        "# Use object names to keep better track of what's going on in your code!\n",
        "my_income = 100\n",
        "\n",
        "tax_rate = 0.1\n",
        "\n",
        "my_taxes = my_income*tax_rate"
      ]
    },
    {
      "cell_type": "code",
      "execution_count": null,
      "metadata": {
        "id": "_91bjRsWg86H",
        "outputId": "2a8869f6-957c-4e28-8912-591dd6c57bad"
      },
      "outputs": [
        {
          "data": {
            "text/plain": [
              "10.0"
            ]
          },
          "execution_count": 19,
          "metadata": {},
          "output_type": "execute_result"
        }
      ],
      "source": [
        "# Show my taxes!\n",
        "my_taxes"
      ]
    },
    {
      "cell_type": "markdown",
      "metadata": {
        "id": "d1jfrPTwg86H"
      },
      "source": [
        "So what have we learned? We learned some of the basics of numbers in Python. We also learned how to do arithmetic and use Python as a basic calculator. We then wrapped it up with learning about Variable Assignment in Python.\n",
        "\n",
        "Up next we'll learn about Strings!"
      ]
    }
  ],
  "metadata": {
    "anaconda-cloud": {},
    "kernelspec": {
      "display_name": "Python 3",
      "language": "python",
      "name": "python3"
    },
    "language_info": {
      "codemirror_mode": {
        "name": "ipython",
        "version": 3
      },
      "file_extension": ".py",
      "mimetype": "text/x-python",
      "name": "python",
      "nbconvert_exporter": "python",
      "pygments_lexer": "ipython3",
      "version": "3.6.6"
    },
    "colab": {
      "provenance": [],
      "toc_visible": true
    }
  },
  "nbformat": 4,
  "nbformat_minor": 0
}